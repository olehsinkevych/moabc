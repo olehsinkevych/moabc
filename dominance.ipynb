{
 "cells": [
  {
   "cell_type": "code",
   "execution_count": 89,
   "id": "initial_id",
   "metadata": {
    "collapsed": true,
    "ExecuteTime": {
     "end_time": "2023-10-13T20:56:49.305745908Z",
     "start_time": "2023-10-13T20:56:49.300786836Z"
    }
   },
   "outputs": [],
   "source": [
    "from functions import uf_1\n",
    "import numpy as np\n",
    "from particle import Particle\n",
    "from typing import List\n",
    "\n",
    "np.random.seed(1000)\n",
    "%matplotlib inline\n",
    "from matplotlib import pyplot as plt\n",
    "import matplotlib.patches as mpatches"
   ]
  },
  {
   "cell_type": "code",
   "execution_count": 90,
   "outputs": [],
   "source": [
    "l_bound = np.array([0, 0, 0, 0])\n",
    "u_bound = np.array([1, 1, 1, 1])\n",
    "dim = 4"
   ],
   "metadata": {
    "collapsed": false,
    "ExecuteTime": {
     "end_time": "2023-10-13T20:56:49.481222245Z",
     "start_time": "2023-10-13T20:56:49.470078035Z"
    }
   },
   "id": "a2e457c4991db49a"
  },
  {
   "cell_type": "code",
   "execution_count": 93,
   "outputs": [],
   "source": [
    "def create_particles(num: int, l_bound: np.array, u_bound: np.array) -> List[Particle]:\n",
    "    \"\"\"Creates dict with {particle.id: particle} and initializes them\"\"\"\n",
    "    particles = []\n",
    "    for i in range(num):\n",
    "        particle = Particle(id=i, l_bound=l_bound, u_bound=u_bound, dim=dim)\n",
    "        particle.initialize_position()\n",
    "        particle.set_cost(f=uf_1)\n",
    "        particles.append(particle)\n",
    "    particles = particles\n",
    "    return particles\n",
    "\n",
    "def get_all_positions(particles: list[Particle]) -> np.ndarray:\n",
    "    \"\"\"Returns all particle positions\"\"\"\n",
    "    solutions = []\n",
    "    for p in particles:\n",
    "        solutions.append(p.position)\n",
    "    return np.array(solutions)\n",
    "\n",
    "def get_all_costs(particles: list[Particle]) -> np.ndarray:\n",
    "    \"\"\"Returns all particle costs\"\"\"\n",
    "    solutions = [p.cost for p in particles]\n",
    "    return np.array(solutions)"
   ],
   "metadata": {
    "collapsed": false,
    "ExecuteTime": {
     "end_time": "2023-10-13T20:57:29.722837086Z",
     "start_time": "2023-10-13T20:57:29.713739497Z"
    }
   },
   "id": "abc4d40fbf754e8a"
  },
  {
   "cell_type": "code",
   "execution_count": 96,
   "outputs": [],
   "source": [
    "particles = create_particles(num=10, l_bound=l_bound, u_bound=u_bound)"
   ],
   "metadata": {
    "collapsed": false,
    "ExecuteTime": {
     "end_time": "2023-10-13T20:57:46.104586316Z",
     "start_time": "2023-10-13T20:57:46.096388273Z"
    }
   },
   "id": "877a9cf4474b43ad"
  },
  {
   "cell_type": "code",
   "execution_count": 99,
   "outputs": [
    {
     "name": "stdout",
     "output_type": "stream",
     "text": [
      "Particle(velocity=0, \n",
      " position=[0.65358959 0.11500694 0.95028286 0.4821914 ], \n",
      " cost=[1.253080382295542, 0.1923108614867357], dominated=False, \n",
      " trial=0)\n",
      "Particle(velocity=0, \n",
      " position=[0.87247454 0.21233268 0.04070962 0.39719446], \n",
      " cost=[3.6147449710654618, 1.2848081117792134], dominated=False, \n",
      " trial=0)\n",
      "Particle(velocity=0, \n",
      " position=[0.2331322  0.84174072 0.20708234 0.74246953], \n",
      " cost=[4.339114863450228, 1.0573445004303914], dominated=False, \n",
      " trial=0)\n",
      "Particle(velocity=0, \n",
      " position=[0.39215413 0.18225652 0.74353941 0.06958208], \n",
      " cost=[0.5354889750013274, 0.5510938674147652], dominated=False, \n",
      " trial=0)\n",
      "Particle(velocity=0, \n",
      " position=[0.8853372  0.9526444  0.93114343 0.41543095], \n",
      " cost=[5.5316497555594415, 4.487117065972018], dominated=False, \n",
      " trial=0)\n",
      "Particle(velocity=0, \n",
      " position=[0.02898166 0.98202748 0.33963768 0.70668719], \n",
      " cost=[0.2596984493936175, 1.3598380328761626], dominated=False, \n",
      " trial=0)\n",
      "Particle(velocity=0, \n",
      " position=[0.36187707 0.0351059  0.85505825 0.65725351], \n",
      " cost=[0.6344122317582723, 0.3984645751014611], dominated=False, \n",
      " trial=0)\n",
      "Particle(velocity=0, \n",
      " position=[0.76568299 0.55408724 0.88509294 0.90419762], \n",
      " cost=[4.263662193441541, 2.892911518282764], dominated=False, \n",
      " trial=0)\n",
      "Particle(velocity=0, \n",
      " position=[0.0104217  0.07455674 0.24462921 0.13330475], \n",
      " cost=[1.4008215436893092, 1.981710268496125], dominated=False, \n",
      " trial=0)\n",
      "Particle(velocity=0, \n",
      " position=[0.6979251  0.39820488 0.88312219 0.18100751], \n",
      " cost=[1.0537830318676265, 0.1699351268955067], dominated=False, \n",
      " trial=0)\n"
     ]
    }
   ],
   "source": [
    "for p in particles:\n",
    "    print(p)"
   ],
   "metadata": {
    "collapsed": false,
    "ExecuteTime": {
     "end_time": "2023-10-13T20:58:04.402402075Z",
     "start_time": "2023-10-13T20:58:04.394082538Z"
    }
   },
   "id": "41a46e5952de4a20"
  },
  {
   "cell_type": "code",
   "execution_count": 100,
   "outputs": [
    {
     "data": {
      "text/plain": "array([[0.65358959, 0.11500694, 0.95028286, 0.4821914 ],\n       [0.87247454, 0.21233268, 0.04070962, 0.39719446],\n       [0.2331322 , 0.84174072, 0.20708234, 0.74246953],\n       [0.39215413, 0.18225652, 0.74353941, 0.06958208],\n       [0.8853372 , 0.9526444 , 0.93114343, 0.41543095],\n       [0.02898166, 0.98202748, 0.33963768, 0.70668719],\n       [0.36187707, 0.0351059 , 0.85505825, 0.65725351],\n       [0.76568299, 0.55408724, 0.88509294, 0.90419762],\n       [0.0104217 , 0.07455674, 0.24462921, 0.13330475],\n       [0.6979251 , 0.39820488, 0.88312219, 0.18100751]])"
     },
     "execution_count": 100,
     "metadata": {},
     "output_type": "execute_result"
    }
   ],
   "source": [
    "get_all_positions(particles=particles)"
   ],
   "metadata": {
    "collapsed": false,
    "ExecuteTime": {
     "end_time": "2023-10-13T20:58:17.124329807Z",
     "start_time": "2023-10-13T20:58:17.115523601Z"
    }
   },
   "id": "14c6ff3349a371c8"
  },
  {
   "cell_type": "code",
   "execution_count": 101,
   "outputs": [],
   "source": [
    "costs = get_all_costs(particles=particles)"
   ],
   "metadata": {
    "collapsed": false,
    "ExecuteTime": {
     "end_time": "2023-10-13T20:58:28.847856780Z",
     "start_time": "2023-10-13T20:58:28.840805106Z"
    }
   },
   "id": "7f7c8bdbff45d842"
  },
  {
   "cell_type": "code",
   "execution_count": 102,
   "outputs": [
    {
     "data": {
      "text/plain": "array([[1.25308038, 0.19231086],\n       [3.61474497, 1.28480811],\n       [4.33911486, 1.0573445 ],\n       [0.53548898, 0.55109387],\n       [5.53164976, 4.48711707],\n       [0.25969845, 1.35983803],\n       [0.63441223, 0.39846458],\n       [4.26366219, 2.89291152],\n       [1.40082154, 1.98171027],\n       [1.05378303, 0.16993513]])"
     },
     "execution_count": 102,
     "metadata": {},
     "output_type": "execute_result"
    }
   ],
   "source": [
    "costs"
   ],
   "metadata": {
    "collapsed": false,
    "ExecuteTime": {
     "end_time": "2023-10-13T20:58:31.330779822Z",
     "start_time": "2023-10-13T20:58:31.324769151Z"
    }
   },
   "id": "ce93530cc2e6046b"
  },
  {
   "cell_type": "code",
   "execution_count": 103,
   "outputs": [],
   "source": [
    "Particle.check_domination(particles=particles)"
   ],
   "metadata": {
    "collapsed": false,
    "ExecuteTime": {
     "end_time": "2023-10-13T20:58:35.091791028Z",
     "start_time": "2023-10-13T20:58:35.082003456Z"
    }
   },
   "id": "e6705431361c93b8"
  },
  {
   "cell_type": "code",
   "execution_count": 104,
   "outputs": [],
   "source": [
    "idx = []\n",
    "for i, p in enumerate(particles):\n",
    "    if not p.dominated:\n",
    "        idx.append(i)"
   ],
   "metadata": {
    "collapsed": false,
    "ExecuteTime": {
     "end_time": "2023-10-13T20:58:36.310158753Z",
     "start_time": "2023-10-13T20:58:36.306482476Z"
    }
   },
   "id": "4be93a121b81a719"
  },
  {
   "cell_type": "code",
   "execution_count": 105,
   "outputs": [
    {
     "data": {
      "text/plain": "Text(0, 0.5, 'f(2)(x)')"
     },
     "execution_count": 105,
     "metadata": {},
     "output_type": "execute_result"
    },
    {
     "data": {
      "text/plain": "<Figure size 800x600 with 1 Axes>",
      "image/png": "[encoded data removed]"
     },
     "metadata": {},
     "output_type": "display_data"
    }
   ],
   "source": [
    "font1 = {'family':'serif','color':'blue','size':16}\n",
    "font2 = {'family':'serif','color':'darkblue','size':15}\n",
    "\n",
    "n = [i+1 for i, _ in enumerate(particles)]\n",
    "fig, ax = plt.subplots(figsize=(8, 6))\n",
    "\n",
    "for i in range(len(costs)):\n",
    "    if i in idx:\n",
    "        ax.scatter(costs[:, 0][i], costs[:, 1][i], color = 'blue')\n",
    "    else:\n",
    "        ax.scatter(costs[:, 0][i], costs[:, 1][i], color = 'green')\n",
    "\n",
    "for i, txt in enumerate(n):\n",
    "    ax.annotate(txt, (costs[:, 0][i], costs[:, 1][i]), fontsize=12)\n",
    "\n",
    "pts_x = [costs[:, 0][i] for i in idx]\n",
    "pts_y = [costs[:, 1][i] for i in idx]\n",
    "order = np.argsort(pts_x)\n",
    "xs = np.array(pts_x)[order]\n",
    "ys = np.array(pts_y)[order]\n",
    "plt.plot(xs, ys)\n",
    "\n",
    "plt.title(\"Pareto Dominance Test\", fontdict=font1)\n",
    "\n",
    "red_patch = mpatches.Patch(color='green', label='Dominated')\n",
    "blue_patch = mpatches.Patch(color='blue', label='Dominates (Pareto front)')\n",
    "plt.legend(handles=[red_patch, blue_patch])\n",
    "\n",
    "plt.xlabel(\"f(1)(x)\", fontdict=font2)\n",
    "plt.ylabel(\"f(2)(x)\", fontdict=font2)\n"
   ],
   "metadata": {
    "collapsed": false,
    "ExecuteTime": {
     "end_time": "2023-10-13T21:00:12.587982874Z",
     "start_time": "2023-10-13T21:00:12.418769590Z"
    }
   },
   "id": "5254006a085c1488"
  }
 ],
 "metadata": {
  "kernelspec": {
   "display_name": "Python 3",
   "language": "python",
   "name": "python3"
  },
  "language_info": {
   "codemirror_mode": {
    "name": "ipython",
    "version": 2
   },
   "file_extension": ".py",
   "mimetype": "text/x-python",
   "name": "python",
   "nbconvert_exporter": "python",
   "pygments_lexer": "ipython2",
   "version": "2.7.6"
  }
 },
 "nbformat": 4,
 "nbformat_minor": 5
}
